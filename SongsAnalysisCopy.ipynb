{
 "cells": [
  {
   "cell_type": "markdown",
   "metadata": {},
   "source": [
    "# Top Charts Song Classification"
   ]
  },
  {
   "cell_type": "markdown",
   "metadata": {},
   "source": [
    "## Outline\n",
    "1. <a href='#1'>Introduction</a>\n",
    "2. <a href='#2'>Dataset Setup</a>\n",
    "3. <a href='#3'>Results</a>\n",
    "4. <a href='#4'>Discussion</a>"
   ]
  },
  {
   "cell_type": "markdown",
   "metadata": {},
   "source": [
    "## 1. Introduction"
   ]
  },
  {
   "cell_type": "markdown",
   "metadata": {},
   "source": [
    "## 2. Dataset Setup"
   ]
  },
  {
   "cell_type": "markdown",
   "metadata": {},
   "source": [
    "### Imports"
   ]
  },
  {
   "cell_type": "code",
   "execution_count": 2,
   "metadata": {},
   "outputs": [],
   "source": [
    "import pandas as pd\n",
    "import numpy as np\n",
    "import seaborn as sns\n",
    "import matplotlib.pyplot as plt\n",
    "from sklearn.model_selection import train_test_split\n",
    "from spotipy import Spotify, oauth2\n",
    "import secret"
   ]
  },
  {
   "cell_type": "code",
   "execution_count": 3,
   "metadata": {},
   "outputs": [],
   "source": [
    "def import_data():\n",
    "    \"\"\"\n",
    "    Import all the song data from raw, unedited csv within this folder\n",
    "    Returns csv as a dataframe object (still uncleaned)\n",
    "    Link to Dataset on Kaggle: https://www.kaggle.com/datasets/multispiros/34740-hit-and-nonhit-songs-spotify-features?resource=download\n",
    "    \"\"\"\n",
    "    unedited_song_data = pd.read_csv('unedited_song_data.csv')\n",
    "    return unedited_song_data"
   ]
  },
  {
   "cell_type": "markdown",
   "metadata": {},
   "source": [
    "### Spotify API Setup"
   ]
  },
  {
   "cell_type": "code",
   "execution_count": 34,
   "metadata": {},
   "outputs": [],
   "source": [
    "class SpotifyAPI:\n",
    "    def __init__(self, client_id: str, client_secret: str):\n",
    "        \"\"\"\n",
    "        Create a SpotifyAPI object\n",
    "        :param client_id: Your Spotify client ID\n",
    "        :param client_secret: Your Spotify client secret\n",
    "        \"\"\"\n",
    "        credentials_manager = oauth2.SpotifyClientCredentials(client_id=client_id, client_secret=client_secret)\n",
    "        self.sp = Spotify(client_credentials_manager=credentials_manager)\n",
    "\n",
    "    def artist_popularity_from_track(self, track_spotify_id: str):\n",
    "        \"\"\"\n",
    "        Returns the popularity of the track's artist\n",
    "        :param track_spotify_id: Spotify ID of the track\n",
    "        \"\"\"\n",
    "        spotify_track = self.sp.track(track_id=track_spotify_id)\n",
    "        return spotify_track[\"artists\"][0][\"popularity\"]"
   ]
  },
  {
   "cell_type": "markdown",
   "metadata": {},
   "source": [
    "### Data Cleaning Methods"
   ]
  },
  {
   "cell_type": "code",
   "execution_count": 35,
   "metadata": {},
   "outputs": [],
   "source": [
    "def add_popularity_info(data):\n",
    "    spotify_api = SpotifyAPI(client_id=secret.spotify_client_id, client_secret=secret.spotify_secret_key)\n",
    "    added_column_df = data.assign(Artist_Popularity = lambda x: (spotify_api.artist_popularity_from_track(x['track_id'])))\n",
    "    return added_column_df"
   ]
  },
  {
   "cell_type": "code",
   "execution_count": 36,
   "metadata": {},
   "outputs": [],
   "source": [
    "def clean_data(unedited_song_data):\n",
    "    \"\"\"\n",
    "    Cleans the given csv by removing not helpful features from our database and\n",
    "    replaces the artist_name column with the artist popularity metric from the\n",
    "    Spotify API\n",
    "    Returns the cleaned DataFrame\n",
    "    :param unedited_song_data: the unedited and uncleaned DataFrame object\n",
    "    \"\"\"\n",
    "    cleaned_song_data = unedited_song_data.copy()\n",
    "    del cleaned_song_data['track_title']\n",
    "    del cleaned_song_data['key']\n",
    "    del cleaned_song_data['time_signature']\n",
    "\n",
    "    cleaned_song_data = add_popularity_info(cleaned_song_data)\n",
    "\n",
    "    del cleaned_song_data['track_id']\n",
    "\n",
    "    return cleaned_song_data\n",
    "    "
   ]
  },
  {
   "cell_type": "code",
   "execution_count": 37,
   "metadata": {},
   "outputs": [],
   "source": [
    "def split_data(cleaned_song_data):\n",
    "    \"\"\"\n",
    "    Splits the training data into a 75%/25% split with the 25% allotted for testing\n",
    "    Returns the data split into x_train, x_test, y_train and y_test\n",
    "    :param cleaned_song_data: the cleaned DataFrame object \n",
    "    \"\"\"\n",
    "    song_y = cleaned_song_data['on_chart']\n",
    "    song_x = cleaned_song_data.drop(['on_chart'], axis=1)\n",
    "    x_train, x_test, y_train, y_test = train_test_split(song_x, song_y, test_size=0.25)\n",
    "    x_train = x_train.reset_index(drop=True)\n",
    "    x_test = x_test.reset_index(drop=True)\n",
    "    y_train = y_train.reset_index(drop=True)\n",
    "    y_test = y_test.reset_index(drop=True)\n",
    "    return x_train, x_test, y_train, y_test"
   ]
  },
  {
   "cell_type": "code",
   "execution_count": 1,
   "metadata": {},
   "outputs": [
    {
     "ename": "NameError",
     "evalue": "name 'import_data' is not defined",
     "output_type": "error",
     "traceback": [
      "\u001b[0;31m---------------------------------------------------------------------------\u001b[0m",
      "\u001b[0;31mNameError\u001b[0m                                 Traceback (most recent call last)",
      "\u001b[0;32m/var/folders/qt/66m__9rs0nng8lcyvrnt4hf80000gn/T/ipykernel_73590/1445868050.py\u001b[0m in \u001b[0;36m<module>\u001b[0;34m\u001b[0m\n\u001b[0;32m----> 1\u001b[0;31m \u001b[0muncleaned_song_data\u001b[0m \u001b[0;34m=\u001b[0m \u001b[0mimport_data\u001b[0m\u001b[0;34m(\u001b[0m\u001b[0;34m)\u001b[0m\u001b[0;34m\u001b[0m\u001b[0;34m\u001b[0m\u001b[0m\n\u001b[0m\u001b[1;32m      2\u001b[0m \u001b[0ml\u001b[0m \u001b[0;34m=\u001b[0m \u001b[0muncleaned_song_data\u001b[0m\u001b[0;34m.\u001b[0m\u001b[0mcolumns\u001b[0m\u001b[0;34m.\u001b[0m\u001b[0mvalues\u001b[0m\u001b[0;34m\u001b[0m\u001b[0;34m\u001b[0m\u001b[0m\n\u001b[1;32m      3\u001b[0m \u001b[0mprint\u001b[0m\u001b[0;34m(\u001b[0m\u001b[0mlen\u001b[0m\u001b[0;34m(\u001b[0m\u001b[0ml\u001b[0m\u001b[0;34m)\u001b[0m\u001b[0;34m)\u001b[0m\u001b[0;34m\u001b[0m\u001b[0;34m\u001b[0m\u001b[0m\n\u001b[1;32m      4\u001b[0m \u001b[0mnumber_of_columns\u001b[0m\u001b[0;34m=\u001b[0m\u001b[0;36m16\u001b[0m\u001b[0;34m\u001b[0m\u001b[0;34m\u001b[0m\u001b[0m\n\u001b[1;32m      5\u001b[0m \u001b[0mnumber_of_rows\u001b[0m \u001b[0;34m=\u001b[0m \u001b[0mlen\u001b[0m\u001b[0;34m(\u001b[0m\u001b[0ml\u001b[0m\u001b[0;34m)\u001b[0m\u001b[0;34m-\u001b[0m\u001b[0;36m1\u001b[0m\u001b[0;34m/\u001b[0m\u001b[0mnumber_of_columns\u001b[0m\u001b[0;34m\u001b[0m\u001b[0;34m\u001b[0m\u001b[0m\n",
      "\u001b[0;31mNameError\u001b[0m: name 'import_data' is not defined"
     ]
    }
   ],
   "source": [
    "uncleaned_song_data = import_data()\n",
    "l = uncleaned_song_data.columns.values\n",
    "print(len(l))\n",
    "number_of_columns=16\n",
    "number_of_rows = len(l)-1/number_of_columns\n",
    "plt.figure(figsize=(number_of_columns,5*number_of_rows))\n",
    "for i in range(0,len(l)):\n",
    "    plt.subplot(number_of_rows + 1,number_of_columns,i+1)\n",
    "    sns.set_style('whitegrid')\n",
    "    sns.boxplot(uncleaned_song_data[l[i]],color='green',orient='v')\n",
    "    plt.tight_layout()"
   ]
  },
  {
   "cell_type": "markdown",
   "metadata": {},
   "source": [
    "### Cleaning the Data"
   ]
  },
  {
   "cell_type": "code",
   "execution_count": 39,
   "metadata": {},
   "outputs": [],
   "source": [
    "cleaned_dataset = clean_data(uncleaned_song_data)"
   ]
  },
  {
   "cell_type": "code",
   "execution_count": null,
   "metadata": {},
   "outputs": [],
   "source": []
  },
  {
   "cell_type": "code",
   "execution_count": null,
   "metadata": {},
   "outputs": [],
   "source": []
  }
 ],
 "metadata": {
  "interpreter": {
   "hash": "3e422c8ce1bb25041f92d2b663ca55566975ec434fa88cecbba68b4c67ef3bca"
  },
  "kernelspec": {
   "display_name": "Python 3.9.2 ('spyder-dev')",
   "language": "python",
   "name": "python3"
  },
  "language_info": {
   "codemirror_mode": {
    "name": "ipython",
    "version": 3
   },
   "file_extension": ".py",
   "mimetype": "text/x-python",
   "name": "python",
   "nbconvert_exporter": "python",
   "pygments_lexer": "ipython3",
   "version": "3.8.3"
  },
  "orig_nbformat": 4
 },
 "nbformat": 4,
 "nbformat_minor": 2
}
